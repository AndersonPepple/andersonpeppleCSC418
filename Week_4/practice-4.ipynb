{
 "cells": [
  {
   "cell_type": "code",
   "execution_count": null,
   "id": "ef9e9480-ab45-4fbe-b0b1-31f55ac8642e",
   "metadata": {},
   "outputs": [],
   "source": [
    "#Laplacian Edge Detection\n",
    "\n",
    "import cv2\n",
    "\n",
    "#Load the image \n",
    "image = cv2.imread('img/sst.jpg', cv2.IMREAD_GRAYSCALE)\n",
    "\n",
    "#resize image\n",
    "image = cv2.resize(image, (400,400))\n",
    "\n",
    "#Perform Guassian Blur\n",
    "#image = cv2.Laplacian(image, cv2.CV_64F)\n",
    "\n",
    "#Apply laplacian edge detection\n",
    "laplacian = cv2.Laplacian(image, cv2.CV_64F)\n",
    "\n",
    "#Convert the output to 8-bit image\n",
    "laplacian = cv2.convertScaleAbs(laplacian)\n",
    "\n",
    "#Display the original image and the laplacian edges\n",
    "cv2.imshow('Original', image)\n",
    "cv2.imshow('Laplacian Edges', laplacian)\n",
    "\n",
    "#Wait for a key press and close all windows\n",
    "cv2.waitKey(0)\n",
    "cv2.destroyAllWindows()"
   ]
  },
  {
   "cell_type": "code",
   "execution_count": null,
   "id": "47d1376f-5539-4a01-b2b4-dc64d30b70c9",
   "metadata": {},
   "outputs": [],
   "source": []
  }
 ],
 "metadata": {
  "kernelspec": {
   "display_name": "Python 3 (ipykernel)",
   "language": "python",
   "name": "python3"
  },
  "language_info": {
   "codemirror_mode": {
    "name": "ipython",
    "version": 3
   },
   "file_extension": ".py",
   "mimetype": "text/x-python",
   "name": "python",
   "nbconvert_exporter": "python",
   "pygments_lexer": "ipython3",
   "version": "3.11.7"
  }
 },
 "nbformat": 4,
 "nbformat_minor": 5
}
