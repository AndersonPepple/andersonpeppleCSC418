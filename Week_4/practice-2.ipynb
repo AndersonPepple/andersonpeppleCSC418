{
 "cells": [
  {
   "cell_type": "code",
   "execution_count": 3,
   "id": "26ff2e10-fe17-4ef0-be28-2e57f2920fdb",
   "metadata": {},
   "outputs": [],
   "source": [
    "#Prewitt Edge Detection\n",
    "\n",
    "import cv2\n",
    "import numpy as np\n",
    "\n",
    "#Load the image\n",
    "image = cv2.imread('img/sst.jpg', cv2.IMREAD_GRAYSCALE)\n",
    "\n",
    "#resize images\n",
    "image = cv2.resize(image, (500,400))\n",
    "\n",
    "#define prewitt kernels\n",
    "kernel_x = np.array([[-1, -1, -1], [0, 0, 0], [1, 1, 1]])\n",
    "kernel_y = np.array([[-1, 0, -1], [-1, 0, 1], [-1, 0, 1]])\n",
    "\n",
    "#Apply Prewitt edge detection\n",
    "prewitt_x = cv2.filter2D(image, -1, kernel_x)\n",
    "prewitt_y = cv2.filter2D(image, -1, kernel_y)\n",
    "\n",
    "#compute magnitude of gradient manually\n",
    "prewitt_combined = np.sqrt(np.square(prewitt_x) + np.square(prewitt_y))\n",
    "\n",
    "#Display the original image and the prewitt edges\n",
    "cv2.imshow('Original', image)\n",
    "cv2.imshow('Prewitt Edeges', np.uint8(prewitt_combined))\n",
    "\n",
    "#Wait for a key press and close all windows\n",
    "cv2.waitKey(0)\n",
    "cv2.destroyAllWindows()"
   ]
  },
  {
   "cell_type": "code",
   "execution_count": null,
   "id": "46b225cf-53c9-4e7b-81a5-37a5fe857bf8",
   "metadata": {},
   "outputs": [],
   "source": []
  }
 ],
 "metadata": {
  "kernelspec": {
   "display_name": "Python 3 (ipykernel)",
   "language": "python",
   "name": "python3"
  },
  "language_info": {
   "codemirror_mode": {
    "name": "ipython",
    "version": 3
   },
   "file_extension": ".py",
   "mimetype": "text/x-python",
   "name": "python",
   "nbconvert_exporter": "python",
   "pygments_lexer": "ipython3",
   "version": "3.11.7"
  }
 },
 "nbformat": 4,
 "nbformat_minor": 5
}
