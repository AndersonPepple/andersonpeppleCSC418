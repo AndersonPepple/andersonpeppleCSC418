{
 "cells": [
  {
   "cell_type": "code",
   "execution_count": null,
   "id": "748bc4b3-3846-4731-92e0-9c3e064570fd",
   "metadata": {},
   "outputs": [],
   "source": [
    "#Canny Edge detection\n",
    "\n",
    "import cv2\n",
    "\n",
    "image = cv2.imread('img/sst.jpg', cv2.IMREAD_GRAYSCALE)\n",
    "\n",
    "image = cv2.resize(image, (400,400))\n",
    "\n",
    "edges = cv2.Canny(image, (100, 200))\n",
    "\n",
    "cv2.imshow('Original', image)\n",
    "cv2.imshow('Edges', edges)\n",
    "\n",
    "cv2.wait"
   ]
  }
 ],
 "metadata": {
  "kernelspec": {
   "display_name": "Python 3 (ipykernel)",
   "language": "python",
   "name": "python3"
  },
  "language_info": {
   "codemirror_mode": {
    "name": "ipython",
    "version": 3
   },
   "file_extension": ".py",
   "mimetype": "text/x-python",
   "name": "python",
   "nbconvert_exporter": "python",
   "pygments_lexer": "ipython3",
   "version": "3.11.7"
  }
 },
 "nbformat": 4,
 "nbformat_minor": 5
}
