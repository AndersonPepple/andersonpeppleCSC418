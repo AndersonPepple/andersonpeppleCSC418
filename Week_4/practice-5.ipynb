{
 "cells": [
  {
   "cell_type": "code",
   "execution_count": 2,
   "id": "748bc4b3-3846-4731-92e0-9c3e064570fd",
   "metadata": {},
   "outputs": [],
   "source": [
    "#Canny Edge detection\n",
    "\n",
    "import cv2\n",
    "\n",
    "image = cv2.imread('img/sst.jpg', cv2.IMREAD_GRAYSCALE)\n",
    "\n",
    "image = cv2.resize(image, (400,400))\n",
    "\n",
    "edges = cv2.Canny(image, 100, 200)\n",
    "\n",
    "cv2.imshow('Original', image)\n",
    "cv2.imshow('Edges', edges)\n",
    "\n",
    "cv2.waitKey(0)\n",
    "cv2.destroyAllWindows()"
   ]
  },
  {
   "cell_type": "code",
   "execution_count": null,
   "id": "fd5c4b02-a8cc-476f-98da-df94750ddc20",
   "metadata": {},
   "outputs": [],
   "source": []
  }
 ],
 "metadata": {
  "kernelspec": {
   "display_name": "Python 3 (ipykernel)",
   "language": "python",
   "name": "python3"
  },
  "language_info": {
   "codemirror_mode": {
    "name": "ipython",
    "version": 3
   },
   "file_extension": ".py",
   "mimetype": "text/x-python",
   "name": "python",
   "nbconvert_exporter": "python",
   "pygments_lexer": "ipython3",
   "version": "3.11.7"
  }
 },
 "nbformat": 4,
 "nbformat_minor": 5
}
