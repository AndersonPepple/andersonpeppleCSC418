{
 "cells": [
  {
   "cell_type": "code",
   "execution_count": 1,
   "metadata": {},
   "outputs": [
    {
     "name": "stdout",
     "output_type": "stream",
     "text": [
      "Before saving image:\n",
      "['PAUlogo1.png']\n",
      "After saving image:\n",
      "['grayImage.png', 'PAUlogo1.png']\n",
      "Successfully saved\n"
     ]
    }
   ],
   "source": [
    "import cv2\n",
    "import os\n",
    "image_path = r'C:\\Users\\ANDERSON AYE PEPPLE\\Documents\\CSC418\\Week_1\\img\\PAUlogo1.png'\n",
    "directory =  r'C:\\Users\\ANDERSON AYE PEPPLE\\Documents\\CSC418\\Week_1\\img'\n",
    "img = cv2.imread(image_path, 0)\n",
    "os.chdir(directory)\n",
    "print(\"Before saving image:\")\n",
    "print(os.listdir(directory))\n",
    "\n",
    "filename = 'grayImage.png'\n",
    "cv2.imwrite(filename, img)\n",
    "\n",
    "print(\"After saving image:\")\n",
    "print(os.listdir(directory))\n",
    "\n",
    "print(\"Successfully saved\")"
   ]
  },
  {
   "cell_type": "code",
   "execution_count": null,
   "metadata": {},
   "outputs": [],
   "source": []
  }
 ],
 "metadata": {
  "kernelspec": {
   "display_name": "Python 3",
   "language": "python",
   "name": "python3"
  },
  "language_info": {
   "codemirror_mode": {
    "name": "ipython",
    "version": 3
   },
   "file_extension": ".py",
   "mimetype": "text/x-python",
   "name": "python",
   "nbconvert_exporter": "python",
   "pygments_lexer": "ipython3",
   "version": "3.8.5"
  }
 },
 "nbformat": 4,
 "nbformat_minor": 4
}
