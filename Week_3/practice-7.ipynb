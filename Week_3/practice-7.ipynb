{
 "cells": [
  {
   "cell_type": "code",
   "execution_count": 2,
   "id": "cd052af3-45a9-42f5-a2f1-3e1f3d957536",
   "metadata": {},
   "outputs": [
    {
     "data": {
      "text/plain": [
       "-1"
      ]
     },
     "execution_count": 2,
     "metadata": {},
     "output_type": "execute_result"
    }
   ],
   "source": [
    "#Importing libraries\n",
    "import cv2\n",
    "\n",
    "image = cv2.imread('img/sst.jpg', 0)\n",
    "\n",
    "cv2.imshow('Original image', image)\n",
    "cv2.waitKey(0)\n",
    "\n",
    "#Gaussian Blur\n",
    "Gaussian = cv2.GaussianBlur(image, (7,7), 0)\n",
    "cv2.imshow(\"Gaussian Blurring\", Gaussian)\n",
    "cv2.waitKey(0)\n",
    "\n",
    "#Median Blur\n",
    "Median = cv2.medianBlur(image, 5)\n",
    "cv2.imshow(\"Median Blurring\", Median)\n",
    "cv2.waitKey(0)\n",
    "\n",
    "#Bilateral Blur\n",
    "Bilateral = cv2.bilateralFilter(image, 9, 75, 75)\n",
    "cv2.imshow(\"Bilateral Blurring\", Bilateral)\n",
    "cv2.waitKey(0)"
   ]
  },
  {
   "cell_type": "code",
   "execution_count": null,
   "id": "1ce87202-c65f-4170-86b3-0220f1f294a9",
   "metadata": {},
   "outputs": [],
   "source": []
  }
 ],
 "metadata": {
  "kernelspec": {
   "display_name": "Python 3 (ipykernel)",
   "language": "python",
   "name": "python3"
  },
  "language_info": {
   "codemirror_mode": {
    "name": "ipython",
    "version": 3
   },
   "file_extension": ".py",
   "mimetype": "text/x-python",
   "name": "python",
   "nbconvert_exporter": "python",
   "pygments_lexer": "ipython3",
   "version": "3.11.7"
  }
 },
 "nbformat": 4,
 "nbformat_minor": 5
}
